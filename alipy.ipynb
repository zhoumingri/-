{
 "cells": [
  {
   "cell_type": "code",
   "execution_count": 1,
   "id": "4faee49c-493d-46ad-9d4c-3009dccf7706",
   "metadata": {},
   "outputs": [
    {
     "data": {
      "text/html": [
       "<div>\n",
       "<style scoped>\n",
       "    .dataframe tbody tr th:only-of-type {\n",
       "        vertical-align: middle;\n",
       "    }\n",
       "\n",
       "    .dataframe tbody tr th {\n",
       "        vertical-align: top;\n",
       "    }\n",
       "\n",
       "    .dataframe thead th {\n",
       "        text-align: right;\n",
       "    }\n",
       "</style>\n",
       "<table border=\"1\" class=\"dataframe\">\n",
       "  <thead>\n",
       "    <tr style=\"text-align: right;\">\n",
       "      <th></th>\n",
       "      <th>user_id</th>\n",
       "      <th>label</th>\n",
       "      <th>dmp_id</th>\n",
       "    </tr>\n",
       "  </thead>\n",
       "  <tbody>\n",
       "    <tr>\n",
       "      <th>0</th>\n",
       "      <td>1</td>\n",
       "      <td>0</td>\n",
       "      <td>1</td>\n",
       "    </tr>\n",
       "    <tr>\n",
       "      <th>1</th>\n",
       "      <td>1000004</td>\n",
       "      <td>0</td>\n",
       "      <td>1</td>\n",
       "    </tr>\n",
       "    <tr>\n",
       "      <th>2</th>\n",
       "      <td>1000004</td>\n",
       "      <td>0</td>\n",
       "      <td>2</td>\n",
       "    </tr>\n",
       "  </tbody>\n",
       "</table>\n",
       "</div>"
      ],
      "text/plain": [
       "   user_id  label  dmp_id\n",
       "0        1      0       1\n",
       "1  1000004      0       1\n",
       "2  1000004      0       2"
      ]
     },
     "execution_count": 1,
     "metadata": {},
     "output_type": "execute_result"
    }
   ],
   "source": [
    "import pandas as pd\n",
    "import numpy as np\n",
    "import matplotlib.pyplot as plt\n",
    "%matplotlib inline\n",
    "data=pd.read_csv(r'D:\\BaiduNetdiskDownload\\effect_tb.csv',header=None)\n",
    "data.columns=['dt','user_id','label','dmp_id']\n",
    "#日志天数属性用不上删除该列\n",
    "data=data.drop(columns='dt')\n",
    "data.head(3)"
   ]
  },
  {
   "cell_type": "code",
   "execution_count": 2,
   "id": "08bdd009-b41e-4cb2-9c95-8363fe52b9d6",
   "metadata": {},
   "outputs": [
    {
     "data": {
      "text/html": [
       "<div>\n",
       "<style scoped>\n",
       "    .dataframe tbody tr th:only-of-type {\n",
       "        vertical-align: middle;\n",
       "    }\n",
       "\n",
       "    .dataframe tbody tr th {\n",
       "        vertical-align: top;\n",
       "    }\n",
       "\n",
       "    .dataframe thead th {\n",
       "        text-align: right;\n",
       "    }\n",
       "</style>\n",
       "<table border=\"1\" class=\"dataframe\">\n",
       "  <thead>\n",
       "    <tr style=\"text-align: right;\">\n",
       "      <th></th>\n",
       "      <th>user_id</th>\n",
       "      <th>label</th>\n",
       "      <th>dmp_id</th>\n",
       "    </tr>\n",
       "  </thead>\n",
       "  <tbody>\n",
       "    <tr>\n",
       "      <th>count</th>\n",
       "      <td>2.645958e+06</td>\n",
       "      <td>2.645958e+06</td>\n",
       "      <td>2.645958e+06</td>\n",
       "    </tr>\n",
       "    <tr>\n",
       "      <th>mean</th>\n",
       "      <td>3.112995e+06</td>\n",
       "      <td>1.456297e-02</td>\n",
       "      <td>1.395761e+00</td>\n",
       "    </tr>\n",
       "    <tr>\n",
       "      <th>std</th>\n",
       "      <td>1.828262e+06</td>\n",
       "      <td>1.197952e-01</td>\n",
       "      <td>6.920480e-01</td>\n",
       "    </tr>\n",
       "    <tr>\n",
       "      <th>min</th>\n",
       "      <td>1.000000e+00</td>\n",
       "      <td>0.000000e+00</td>\n",
       "      <td>1.000000e+00</td>\n",
       "    </tr>\n",
       "    <tr>\n",
       "      <th>25%</th>\n",
       "      <td>1.526772e+06</td>\n",
       "      <td>0.000000e+00</td>\n",
       "      <td>1.000000e+00</td>\n",
       "    </tr>\n",
       "    <tr>\n",
       "      <th>50%</th>\n",
       "      <td>3.062184e+06</td>\n",
       "      <td>0.000000e+00</td>\n",
       "      <td>1.000000e+00</td>\n",
       "    </tr>\n",
       "    <tr>\n",
       "      <th>75%</th>\n",
       "      <td>4.721132e+06</td>\n",
       "      <td>0.000000e+00</td>\n",
       "      <td>2.000000e+00</td>\n",
       "    </tr>\n",
       "    <tr>\n",
       "      <th>max</th>\n",
       "      <td>6.265402e+06</td>\n",
       "      <td>1.000000e+00</td>\n",
       "      <td>3.000000e+00</td>\n",
       "    </tr>\n",
       "  </tbody>\n",
       "</table>\n",
       "</div>"
      ],
      "text/plain": [
       "            user_id         label        dmp_id\n",
       "count  2.645958e+06  2.645958e+06  2.645958e+06\n",
       "mean   3.112995e+06  1.456297e-02  1.395761e+00\n",
       "std    1.828262e+06  1.197952e-01  6.920480e-01\n",
       "min    1.000000e+00  0.000000e+00  1.000000e+00\n",
       "25%    1.526772e+06  0.000000e+00  1.000000e+00\n",
       "50%    3.062184e+06  0.000000e+00  1.000000e+00\n",
       "75%    4.721132e+06  0.000000e+00  2.000000e+00\n",
       "max    6.265402e+06  1.000000e+00  3.000000e+00"
      ]
     },
     "execution_count": 2,
     "metadata": {},
     "output_type": "execute_result"
    }
   ],
   "source": [
    "data.describe()"
   ]
  },
  {
   "cell_type": "code",
   "execution_count": null,
   "id": "f0b6da39-999e-40c1-aeaa-336a65a009b7",
   "metadata": {},
   "outputs": [],
   "source": [
    "2.重复值处理"
   ]
  },
  {
   "cell_type": "code",
   "execution_count": 3,
   "id": "41187cec-7bcf-410c-a6d9-a1c3c96dbc84",
   "metadata": {},
   "outputs": [
    {
     "data": {
      "text/plain": [
       "(2645958, 3)"
      ]
     },
     "execution_count": 3,
     "metadata": {},
     "output_type": "execute_result"
    }
   ],
   "source": [
    "data.shape"
   ]
  },
  {
   "cell_type": "code",
   "execution_count": 4,
   "id": "36c22944-e95c-440c-9305-07b89b284549",
   "metadata": {},
   "outputs": [
    {
     "data": {
      "text/plain": [
       "user_id    2410683\n",
       "label            2\n",
       "dmp_id           3\n",
       "dtype: int64"
      ]
     },
     "execution_count": 4,
     "metadata": {},
     "output_type": "execute_result"
    }
   ],
   "source": [
    "data.nunique()"
   ]
  },
  {
   "cell_type": "code",
   "execution_count": 5,
   "id": "20b63b82-5359-425f-ab69-1fe355b4984e",
   "metadata": {},
   "outputs": [],
   "source": [
    "#删除重复值\n",
    "data=data.drop_duplicates()"
   ]
  },
  {
   "cell_type": "code",
   "execution_count": null,
   "id": "b805046d-926f-4d99-8b4f-ac4755468768",
   "metadata": {},
   "outputs": [],
   "source": [
    "3.空值处理"
   ]
  },
  {
   "cell_type": "code",
   "execution_count": 6,
   "id": "9524b957-d172-4d2f-a3cd-1f0e2aef660a",
   "metadata": {},
   "outputs": [
    {
     "data": {
      "text/plain": [
       "user_id    0\n",
       "label      0\n",
       "dmp_id     0\n",
       "dtype: int64"
      ]
     },
     "execution_count": 6,
     "metadata": {},
     "output_type": "execute_result"
    }
   ],
   "source": [
    "#检查空值个数\n",
    "data.isnull().sum()"
   ]
  },
  {
   "cell_type": "code",
   "execution_count": null,
   "id": "ac2932fb-0453-4a5b-8276-217bd59c8bba",
   "metadata": {},
   "outputs": [],
   "source": [
    "数据集无空值，无需进行处理"
   ]
  },
  {
   "cell_type": "code",
   "execution_count": null,
   "id": "bec6cdca-e05a-451b-be04-1905013adf03",
   "metadata": {},
   "outputs": [],
   "source": [
    "4.异常值处理"
   ]
  },
  {
   "cell_type": "code",
   "execution_count": 7,
   "id": "9990072c-eac5-488c-8606-754173b46837",
   "metadata": {},
   "outputs": [
    {
     "name": "stdout",
     "output_type": "stream",
     "text": [
      "<class 'pandas.core.frame.DataFrame'>\n",
      "Index: 2632975 entries, 0 to 2645957\n",
      "Data columns (total 3 columns):\n",
      " #   Column   Dtype\n",
      "---  ------   -----\n",
      " 0   user_id  int64\n",
      " 1   label    int64\n",
      " 2   dmp_id   int64\n",
      "dtypes: int64(3)\n",
      "memory usage: 80.4 MB\n"
     ]
    }
   ],
   "source": [
    "data.info()"
   ]
  },
  {
   "cell_type": "code",
   "execution_count": 8,
   "id": "df45d7a1-50ea-45e1-a59d-57b56518358b",
   "metadata": {},
   "outputs": [
    {
     "data": {
      "text/html": [
       "<div>\n",
       "<style scoped>\n",
       "    .dataframe tbody tr th:only-of-type {\n",
       "        vertical-align: middle;\n",
       "    }\n",
       "\n",
       "    .dataframe tbody tr th {\n",
       "        vertical-align: top;\n",
       "    }\n",
       "\n",
       "    .dataframe thead th {\n",
       "        text-align: right;\n",
       "    }\n",
       "</style>\n",
       "<table border=\"1\" class=\"dataframe\">\n",
       "  <thead>\n",
       "    <tr style=\"text-align: right;\">\n",
       "      <th>label</th>\n",
       "      <th>0</th>\n",
       "      <th>1</th>\n",
       "      <th>All</th>\n",
       "    </tr>\n",
       "    <tr>\n",
       "      <th>dmp_id</th>\n",
       "      <th></th>\n",
       "      <th></th>\n",
       "      <th></th>\n",
       "    </tr>\n",
       "  </thead>\n",
       "  <tbody>\n",
       "    <tr>\n",
       "      <th>1</th>\n",
       "      <td>1881745</td>\n",
       "      <td>23918</td>\n",
       "      <td>1905663</td>\n",
       "    </tr>\n",
       "    <tr>\n",
       "      <th>2</th>\n",
       "      <td>404811</td>\n",
       "      <td>6296</td>\n",
       "      <td>411107</td>\n",
       "    </tr>\n",
       "    <tr>\n",
       "      <th>3</th>\n",
       "      <td>307923</td>\n",
       "      <td>8282</td>\n",
       "      <td>316205</td>\n",
       "    </tr>\n",
       "    <tr>\n",
       "      <th>All</th>\n",
       "      <td>2594479</td>\n",
       "      <td>38496</td>\n",
       "      <td>2632975</td>\n",
       "    </tr>\n",
       "  </tbody>\n",
       "</table>\n",
       "</div>"
      ],
      "text/plain": [
       "label         0      1      All\n",
       "dmp_id                         \n",
       "1       1881745  23918  1905663\n",
       "2        404811   6296   411107\n",
       "3        307923   8282   316205\n",
       "All     2594479  38496  2632975"
      ]
     },
     "execution_count": 8,
     "metadata": {},
     "output_type": "execute_result"
    }
   ],
   "source": [
    "data_pivot=data.pivot_table(index='dmp_id',columns='label',values='user_id',aggfunc='count',margins=True)"
   ]
  },
  {
   "cell_type": "code",
   "execution_count": null,
   "id": "3df9a210-1e78-47c0-957d-0baef726c8aa",
   "metadata": {},
   "outputs": [],
   "source": [
    "dmp_id=1、dmp_id=2 和 dmp_id=3 ：未点击广告的用户数远大于点击广告的用户数。合理\n",
    "dmp_id=2 和 dmp_id=3 ： 两种策略所得到点击广告用户数没有显著差别。合理\n",
    "未发现异常取值，无需处理\n"
   ]
  },
  {
   "cell_type": "code",
   "execution_count": 12,
   "id": "3bbb645e-c8a0-4c1f-84a9-6886da951d87",
   "metadata": {},
   "outputs": [
    {
     "data": {
      "text/plain": [
       "user_id    int64\n",
       "label      int64\n",
       "dmp_id     int64\n",
       "dtype: object"
      ]
     },
     "execution_count": 12,
     "metadata": {},
     "output_type": "execute_result"
    }
   ],
   "source": [
    "data.dtypes"
   ]
  },
  {
   "cell_type": "code",
   "execution_count": null,
   "id": "1140d5ca-40ba-4f81-a62d-f46ce9f7e295",
   "metadata": {},
   "outputs": [],
   "source": [
    "数据类型正常，无需处理"
   ]
  },
  {
   "cell_type": "code",
   "execution_count": null,
   "id": "5166076e-75fb-4863-8758-d960d38d3909",
   "metadata": {},
   "outputs": [],
   "source": [
    "2.2样本容量检验\n",
    "在进行A/B测试前，需检查样本容量是否满足试验所需最小值。\n",
    "首先需要设定点击率基准线以及最小提升比例，我们将对照组的点击率设为基准线，从前述可知对照组点击率为1.26%\n",
    "假设我们希望新的营销策略能让广告点击率至少提升1个百分点，则每组所需最小样本量为2658"
   ]
  },
  {
   "cell_type": "code",
   "execution_count": 24,
   "id": "45aaee3a-8676-479a-b1ce-c0648653b8cb",
   "metadata": {},
   "outputs": [
    {
     "name": "stdout",
     "output_type": "stream",
     "text": [
      "每组所需最小样本量: 2658\n"
     ]
    }
   ],
   "source": [
    "from statsmodels.stats.power import zt_ind_solve_power\n",
    "from statsmodels.stats.proportion import proportion_effectsize\n",
    "\n",
    "# 输入参数\n",
    "baseline_rate = 0.0126       # 基础转化率（对照组点击率）\n",
    "min_effect = 0.01           # 最小期望提升（绝对提升\n",
    "alpha = 0.05                # 显著性水平\n",
    "power = 0.8    # 统计功效（1 - 第二类错误率） 0.7155得2167\n",
    "\n",
    "# 计算效应量（effect size）\n",
    "effect_size = proportion_effectsize(prop1=baseline_rate + min_effect, prop2=baseline_rate)\n",
    "\n",
    "# 计算最小样本量（每组）\n",
    "sample_size = zt_ind_solve_power(\n",
    "    effect_size=effect_size,\n",
    "    nobs1=None,\n",
    "    alpha=alpha,\n",
    "    power=power,\n",
    "    alternative='two-sided'\n",
    ")\n",
    "\n",
    "print(f\"每组所需最小样本量: {int(sample_size)}\")"
   ]
  },
  {
   "cell_type": "code",
   "execution_count": 25,
   "id": "11f5803f-f44d-47d3-b13d-594c36ba7891",
   "metadata": {},
   "outputs": [
    {
     "data": {
      "text/plain": [
       "dmp_id\n",
       "1    1905663\n",
       "2     411107\n",
       "3     316205\n",
       "Name: count, dtype: int64"
      ]
     },
     "execution_count": 25,
     "metadata": {},
     "output_type": "execute_result"
    }
   ],
   "source": [
    "#检查样本量\n",
    "data['dmp_id'].value_counts()"
   ]
  },
  {
   "cell_type": "code",
   "execution_count": null,
   "id": "351fd010-eed2-4309-ae01-6600b4027328",
   "metadata": {},
   "outputs": [],
   "source": [
    "两组营销活动的样本量分别为41.11万和31.62万，满足最小样本量需求。"
   ]
  },
  {
   "cell_type": "code",
   "execution_count": 35,
   "id": "058c8dec-2894-42a7-9910-b3c2b1824117",
   "metadata": {},
   "outputs": [
    {
     "name": "stdout",
     "output_type": "stream",
     "text": [
      "对照组： 0.012551012429794775\n",
      "营销策略一： 0.015314747742072015\n",
      "营销策略二： 0.026191869198779274\n"
     ]
    }
   ],
   "source": [
    "#计算各组点击率\n",
    "print('对照组：',data[data['dmp_id']==1]['label'].mean())\n",
    "print('营销策略一：',data[data['dmp_id']==2]['label'].mean())\n",
    "print('营销策略二：',data[data['dmp_id']==3]['label'].mean())"
   ]
  },
  {
   "cell_type": "code",
   "execution_count": null,
   "id": "9cbbe1ea-616a-4ea3-9ea6-d8b6186a267a",
   "metadata": {},
   "outputs": [],
   "source": [
    "可以看到策略一和策略二相较对照组在点击率上都有不同程度提升。其中策略一提升0.2个百分点，策略二提升1.3个百分点，只有策略二满足了前面我们对点击率提升最小值的要求。\n",
    "接下来需要进行假设检验，看策略二点击率的提升是否显著。\n",
    "a.原假设和备择假设\n",
    "记对照组点击率为p1，策略二点击率为p2，则:\n",
    "原假设 H0:p1≥p2\n",
    "备择假设 H1: p1 < p2\n",
    "b.分布类型、检验类型和显著性水平\n",
    "样本服从二点分布(伯努利分布)，独立双样本，样本大小n>30，总体均值和标准差未知，所以采用Z检验。显著性水平α取\n",
    "0.05。"
   ]
  },
  {
   "cell_type": "code",
   "execution_count": 37,
   "id": "93e5313a-1173-42fd-8ae1-b5dc6a23bd25",
   "metadata": {},
   "outputs": [
    {
     "name": "stdout",
     "output_type": "stream",
     "text": [
      "检验统计量z: -59.44168632985996 p值： 0.0\n"
     ]
    },
    {
     "name": "stderr",
     "output_type": "stream",
     "text": [
      "C:\\Users\\86178\\AppData\\Local\\Temp\\ipykernel_172\\2410972183.py:9: UserWarning: Boolean Series key will be reindexed to match DataFrame index.\n",
      "  c_old=len(data[data.dmp_id==1][data.label==1])\n",
      "C:\\Users\\86178\\AppData\\Local\\Temp\\ipykernel_172\\2410972183.py:10: UserWarning: Boolean Series key will be reindexed to match DataFrame index.\n",
      "  c_new=len(data[data.dmp_id==3][data.label==1])\n"
     ]
    }
   ],
   "source": [
    "#用python statsmodels包计算z值和p值\n",
    "#首先计算对照组和营销策略二的用户数和点击数\n",
    "\n",
    "#用户数\n",
    "n_old=len(data[data.dmp_id==1])\n",
    "n_new=len(data[data.dmp_id==3])\n",
    "\n",
    "#点击数\n",
    "c_old=len(data[data.dmp_id==1][data.label==1])\n",
    "c_new=len(data[data.dmp_id==3][data.label==1])\n",
    "\n",
    "\n",
    "import statsmodels.stats.proportion as sp\n",
    "z_score,p=sp.proportions_ztest([c_old,c_new],[n_old,n_new],alternative='two-sided')\n",
    "print('检验统计量z:',z_score,'p值：',p)"
   ]
  },
  {
   "cell_type": "code",
   "execution_count": null,
   "id": "bfab3499-6bfa-43d1-9525-67548bce4d9e",
   "metadata": {},
   "outputs": [],
   "source": [
    "p值约等于0，p<α，故拒绝原假设，策略二的点击率提升显著\n"
   ]
  },
  {
   "cell_type": "code",
   "execution_count": 39,
   "id": "a721e8db-9a8a-4fd7-8d76-be241ff5278d",
   "metadata": {},
   "outputs": [
    {
     "name": "stdout",
     "output_type": "stream",
     "text": [
      "策略一检验统计量z: -14.165873564308429 策略一p值： 1.4900243485475164e-45\n"
     ]
    },
    {
     "name": "stderr",
     "output_type": "stream",
     "text": [
      "C:\\Users\\86178\\AppData\\Local\\Temp\\ipykernel_172\\105735733.py:4: UserWarning: Boolean Series key will be reindexed to match DataFrame index.\n",
      "  c_new2=len(data[data.dmp_id==2][data.label==1])\n"
     ]
    }
   ],
   "source": [
    "#作为补充，我们再检验下策略一的点击率提升是否显著\n",
    "#计算策略一的用户数、点击数\n",
    "n_new2=len(data[data.dmp_id==2])\n",
    "c_new2=len(data[data.dmp_id==2][data.label==1])\n",
    "z_score,p=sp.proportions_ztest([c_old,c_new2],[n_old,n_new2],alternative='two-sided')\n",
    "print('策略一检验统计量z:',z_score,'策略一p值：',p)"
   ]
  },
  {
   "cell_type": "code",
   "execution_count": null,
   "id": "cd8bceee-686c-4ee9-be9e-007eda2261ee",
   "metadata": {},
   "outputs": [],
   "source": [
    "p值约等于1.49e-45，p<α，但因为前面我们设置了对点击率提升的最小值要求，这里仍只选择第二组策略进行推广"
   ]
  },
  {
   "cell_type": "code",
   "execution_count": null,
   "id": "eac34271-1039-4e0d-82aa-886463c4c385",
   "metadata": {},
   "outputs": [],
   "source": [
    "4.结论\n",
    "综上所述，两种营销策略中，策略二对广告点击率有显著提升效果，且相较于对照组点击率提升了近一倍，因而在两组营销策略中应选择第二组进行推广。"
   ]
  },
  {
   "cell_type": "code",
   "execution_count": null,
   "id": "dd3b38ca-6161-4ac8-a5a1-fb4ab6e32878",
   "metadata": {},
   "outputs": [],
   "source": []
  },
  {
   "cell_type": "code",
   "execution_count": null,
   "id": "9ea2f7ff-ad05-4c5c-9033-5bda567a3bb9",
   "metadata": {},
   "outputs": [],
   "source": []
  },
  {
   "cell_type": "code",
   "execution_count": null,
   "id": "d4fa208b-c23e-4bfd-8552-8e8e88ccaa28",
   "metadata": {},
   "outputs": [],
   "source": []
  },
  {
   "cell_type": "code",
   "execution_count": null,
   "id": "71abec1a-73c3-4651-87e5-503a118d242f",
   "metadata": {},
   "outputs": [],
   "source": []
  }
 ],
 "metadata": {
  "kernelspec": {
   "display_name": "Python 3 (ipykernel)",
   "language": "python",
   "name": "python3"
  },
  "language_info": {
   "codemirror_mode": {
    "name": "ipython",
    "version": 3
   },
   "file_extension": ".py",
   "mimetype": "text/x-python",
   "name": "python",
   "nbconvert_exporter": "python",
   "pygments_lexer": "ipython3",
   "version": "3.12.4"
  }
 },
 "nbformat": 4,
 "nbformat_minor": 5
}
